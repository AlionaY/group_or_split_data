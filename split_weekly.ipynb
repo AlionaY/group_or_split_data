{
 "cells": [
  {
   "cell_type": "markdown",
   "id": "98011436-add7-40d3-b1bc-c7e6fd58a23f",
   "metadata": {},
   "source": [
    "### Інструкція"
   ]
  },
  {
   "attachments": {
    "49ec6260-c84f-4cb7-ab3f-e0215a7505c6.png": {
     "image/png": "[encoded data removed]"
    }
   },
   "cell_type": "markdown",
   "id": "103ef4aa-cc13-4ce0-a8eb-b2717093df2f",
   "metadata": {},
   "source": [
    "Перший раз запустити код з допомогою кнопки ![image.png](attachment:49ec6260-c84f-4cb7-ab3f-e0215a7505c6.png)\n",
    "\n",
    "Для повторної роботи з кодом, достатньо перезапустити останній блок коду `if __name__ == \"__main__\": main()`"
   ]
  },
  {
   "cell_type": "markdown",
   "id": "60978619-2ea2-49d9-8bb9-deca07256406",
   "metadata": {},
   "source": [
    "1. Обрати файл, дані якого потрібно змінити\n",
    "2. Обрати лист з потрібними даними\n",
    "3. Обрати опцію для кожного зі стовпців\n",
    "4. Обрати куди зберегти результати:\n",
    "   * створити новий файл:\n",
    "     <br>написати назву файлу -> написати назву листа (sheet)\n",
    "     <br>ФАЙЛ СТВОРЮЄТЬСЯ НА РОБОЧОМУ СТОЛІ\n",
    "\n",
    "   * зберегти результати в існуючому файлі:\n",
    "     <br>ФАЙЛ, В ЯКОМУ БУДЕ ЗБЕРЕЖЕНО РЕЗУЛЬТАТИ, МАЄ БУТИ ЗАКРИТИМ\n",
    "     <br>вибрати файл, в якому буде збережено результати -> написати назву листа (sheet)"
   ]
  },
  {
   "cell_type": "markdown",
   "id": "d21ad42e-e9aa-44ca-be9c-03e432efc288",
   "metadata": {},
   "source": [
    "### Imports and general"
   ]
  },
  {
   "cell_type": "code",
   "execution_count": 1,
   "id": "39255d9f-717d-47f9-ae55-3557406dd9a3",
   "metadata": {},
   "outputs": [],
   "source": [
    "# pip install pandas\n",
    "# pip install numpy\n",
    "# pip install tkinter\n",
    "# pip install openpyxl\n",
    "# pip install XlsxWriter"
   ]
  },
  {
   "cell_type": "code",
   "execution_count": 2,
   "id": "559736e6-296c-4bd1-be8c-f7aba8659324",
   "metadata": {},
   "outputs": [],
   "source": [
    "import os\n",
    "import pandas as pd\n",
    "import numpy as np\n",
    "\n",
    "import datetime\n",
    "import tkinter as tk\n",
    "from tkinter import ttk, Tk, Toplevel, Listbox, Button, SINGLE, END, Label, Radiobutton, StringVar, messagebox, simpledialog\n",
    "from tkinter.filedialog import askopenfilename, asksaveasfilename\n",
    "\n",
    "from openpyxl import Workbook, load_workbook\n",
    "from openpyxl.utils.dataframe import dataframe_to_rows"
   ]
  },
  {
   "cell_type": "code",
   "execution_count": 3,
   "id": "ff65c509-5fd9-41a7-9c68-db0e07023312",
   "metadata": {},
   "outputs": [],
   "source": [
    "def ask_string_value(title):\n",
    "    root = tk.Tk()\n",
    "    root.withdraw()\n",
    "\n",
    "    string_value = simpledialog.askstring(\"Excel Sheet Name\", title)\n",
    "    print(f'string_value = {string_value}')\n",
    "    if string_value:\n",
    "        return string_value.strip()\n",
    "    else:\n",
    "        messagebox.showerror('Error', 'No sheet name was entered') \n",
    "        return None"
   ]
  },
  {
   "cell_type": "markdown",
   "id": "b4c501bc-b2c2-41a2-a694-9199f1a90562",
   "metadata": {
    "jp-MarkdownHeadingCollapsed": true
   },
   "source": [
    "### Load a file"
   ]
  },
  {
   "cell_type": "code",
   "execution_count": 4,
   "id": "942c03c4-5474-4776-9bb8-4fbbbc6f345e",
   "metadata": {},
   "outputs": [],
   "source": [
    "def choose_filename():\n",
    "    Tk().withdraw()\n",
    "\n",
    "    filename = askopenfilename(\n",
    "        title=\"Select an Excel file\",\n",
    "        filetypes=[(\"Excel files\", \"*.xlsx *.xls\")]\n",
    "    )\n",
    "    return filename\n",
    "\n",
    "\n",
    "def select_sheet(sheet_names):\n",
    "    top = Toplevel()\n",
    "    top.title(\"Select a sheet\")\n",
    "    top.geometry('600x600')\n",
    "    \n",
    "    listbox = Listbox(top, selectmode=SINGLE)\n",
    "    for sheet in sheet_names:\n",
    "        listbox.insert(END, sheet)\n",
    "    listbox.pack(padx=10, pady=10)\n",
    "\n",
    "    selected_sheet = []\n",
    "\n",
    "    def on_select():\n",
    "        selection = listbox.curselection()\n",
    "        if selection:\n",
    "            selected_sheet.append(sheet_names[selection[0]])\n",
    "        top.destroy()\n",
    "\n",
    "    button = Button(top, text=\"Select\", command=on_select)\n",
    "    button.pack(pady=5)\n",
    "\n",
    "    top.wait_window(top)\n",
    "    return selected_sheet[0] if selected_sheet else None\n",
    "\n",
    "\n",
    "def read_excel_file(filename, sheet_name):\n",
    "    df = pd.read_excel(filename, sheet_name=sheet_name) \n",
    "    df.columns = map(str.lower, df.columns)\n",
    "    print('Excel file selected')\n",
    "    return df"
   ]
  },
  {
   "cell_type": "code",
   "execution_count": 5,
   "id": "10a016c9-d970-4567-aa15-e227bd0daf3c",
   "metadata": {},
   "outputs": [],
   "source": [
    "def get_raw_data():\n",
    "    file_path = choose_filename()\n",
    "    \n",
    "    if file_path:\n",
    "        xls = pd.ExcelFile(file_path)\n",
    "        sheet_name = select_sheet(xls.sheet_names)\n",
    "\n",
    "        if sheet_name in xls.sheet_names:\n",
    "            df = read_excel_file(file_path, sheet_name)\n",
    "            print(\"DataFrame loaded successfully.\")\n",
    "            df = df.fillna(0)\n",
    "            return df\n",
    "        else:\n",
    "            messagebox.showerror('Error', \"Invalid sheet name selected.\")\n",
    "    else:\n",
    "        messagebox.showerror('Error', \"No file selected.\") "
   ]
  },
  {
   "cell_type": "markdown",
   "id": "b40b536e-30f0-4a89-8fc1-0ec02d887784",
   "metadata": {},
   "source": [
    "### Select \"Divide\" or \"Duplicate\""
   ]
  },
  {
   "cell_type": "code",
   "execution_count": 6,
   "id": "ff747adb-1b39-4861-b561-945096d4f85d",
   "metadata": {},
   "outputs": [],
   "source": [
    "def select_options(df):\n",
    "    def submit():\n",
    "        root.withdraw()\n",
    "        root.quit()\n",
    "\n",
    "    def on_radio_click(var, value):\n",
    "        var.set(value)\n",
    "    \n",
    "    def transform_results():\n",
    "        results_dict = {col: choice.get() for col, choice in results.items()}\n",
    "        return results_dict\n",
    "    \n",
    "    root = tk.Tk()\n",
    "    root.title('Select option')\n",
    "    results = {}\n",
    "\n",
    "    numeric_columns = df.select_dtypes(include='number')\n",
    "    num_cols_to_show = [col for col in numeric_columns if 'year' not in col and 'month' not in col]\n",
    "    \n",
    "    for idx, col in enumerate(num_cols_to_show):\n",
    "        label = Label(root, text=f'{col}:')\n",
    "        label.grid(row=idx, column=0, padx=10, pady=5)\n",
    "        \n",
    "        var = StringVar(value='Duplicate')\n",
    "        results[col] = var\n",
    "        \n",
    "        duplicate_button = ttk.Radiobutton(root, text='Duplicate', variable=var, value='Duplicate', command=lambda v=var: on_radio_click(v, \"Duplicate\"))\n",
    "        duplicate_button.grid(row=idx, column=1, padx=10, pady=5)\n",
    "    \n",
    "        divide_button = ttk.Radiobutton(root, text='Divide', variable=var, value='Divide', command=lambda v=var: on_radio_click(v, \"Divide\"))\n",
    "        divide_button.grid(row=idx, column=2, padx=10, pady=5)\n",
    "    \n",
    "    submit_button = Button(root, text='Submit', command=submit)\n",
    "    submit_button.grid(row=len(numeric_columns), columnspan=3, pady=10)\n",
    "    \n",
    "    root.mainloop()\n",
    "    return transform_results()"
   ]
  },
  {
   "cell_type": "markdown",
   "id": "4e5b15dd-9bf6-4029-859d-13240e7b8108",
   "metadata": {},
   "source": [
    "### Create new df with weeks"
   ]
  },
  {
   "cell_type": "code",
   "execution_count": 7,
   "id": "d75b1064-ba32-4468-8d54-0857aa7f2d0b",
   "metadata": {},
   "outputs": [],
   "source": [
    "def create_year_week_df(start_year, end_year, last_month):\n",
    "    data = {'year': [], 'month': [], 'week': []}\n",
    "    \n",
    "    for year in range(start_year, end_year + 1):\n",
    "        if year != end_year:\n",
    "            last_week = datetime.date(year, 12, 28).isocalendar()[1]\n",
    "        else:\n",
    "            last_week = datetime.date(year, last_month, 28).isocalendar()[1]\n",
    "\n",
    "        for week in range(1, last_week + 1):\n",
    "            data['year'].append(year)\n",
    "            data['month'].append(get_dominant_month(year, week))\n",
    "            data['week'].append(week)\n",
    "        \n",
    "    df = pd.DataFrame(data)\n",
    "    return df\n",
    "\n",
    "\n",
    "def get_dominant_month(year, week):\n",
    "    days_in_week = [datetime.date.fromisocalendar(year, week, day) for day in range(1, 8)]\n",
    "    months = [day.month for day in days_in_week]\n",
    "    dominant_month = max(set(months), key=months.count)\n",
    "    return dominant_month"
   ]
  },
  {
   "cell_type": "markdown",
   "id": "c4993cc5-c16a-452e-901e-0df7e95e2bac",
   "metadata": {},
   "source": [
    "### Get df with results"
   ]
  },
  {
   "cell_type": "code",
   "execution_count": 8,
   "id": "de463052-e665-45cc-a7e6-a598a790e8a2",
   "metadata": {},
   "outputs": [],
   "source": [
    "def get_weekly_df(week_df, month_df, seleted_options):\n",
    "    res_df = pd.merge(week_df, month_df, on=['year', 'month'], how='left')\n",
    "    divide_cols = get_divide_col_list(seleted_options)\n",
    "    for col in divide_cols:\n",
    "        res_df[col] = res_df.groupby(['year', 'month'])[col].transform(lambda x: x / len(x))\n",
    "    return res_df\n",
    "\n",
    "\n",
    "def get_divide_col_list(seleted_options):\n",
    "    divide_cols = []\n",
    "    for col, choise in seleted_options.items():\n",
    "        if choise == 'Divide':\n",
    "            divide_cols.append(col)\n",
    "    print(divide_cols)\n",
    "    return divide_cols"
   ]
  },
  {
   "cell_type": "code",
   "execution_count": 9,
   "id": "2786d82d-6a52-4911-8f90-0113fcbd6f2b",
   "metadata": {},
   "outputs": [],
   "source": [
    "def create_weekly_df(raw_data):\n",
    "    first_year = raw_data['year'].min()\n",
    "    last_year = raw_data['year'].max()\n",
    "    last_month = raw_data[raw_data['year'] == last_year]['month'].max()\n",
    "    weekly_df = create_year_week_df(first_year, last_year, last_month)\n",
    "    return weekly_df"
   ]
  },
  {
   "cell_type": "markdown",
   "id": "38da64ee-b755-4328-a768-22d8a2294538",
   "metadata": {
    "jp-MarkdownHeadingCollapsed": true
   },
   "source": [
    "### Choose \"Create Excel file\" or \"Save to existing file\""
   ]
  },
  {
   "cell_type": "code",
   "execution_count": 10,
   "id": "7044636b-031c-410a-8bc4-ac979dac6e78",
   "metadata": {},
   "outputs": [],
   "source": [
    "def select_unique_option(options, title):    \n",
    "    def on_selected():\n",
    "        root.destroy()\n",
    "\n",
    "    root = Toplevel()\n",
    "    root.title(title)\n",
    "    root.geometry('600x600')\n",
    "\n",
    "    selected_option = StringVar(value=options[0])\n",
    "    for option in options:\n",
    "         radio_button = tk.Radiobutton(root, text=option, variable=selected_option, value=option)\n",
    "         radio_button.pack(anchor='w')\n",
    "    \n",
    "    select_button = tk.Button(root, text=\"Select\", command=on_selected)\n",
    "    select_button.pack()\n",
    "    root.wait_window()\n",
    "\n",
    "    return selected_option.get()"
   ]
  },
  {
   "cell_type": "code",
   "execution_count": 11,
   "id": "98f47b72-4583-40d2-b6ad-368502f546b9",
   "metadata": {},
   "outputs": [],
   "source": [
    "def select_how_to_save_results():\n",
    "    options = ['Create Excel file', 'Save to existing file']\n",
    "    title = 'I want to...'\n",
    "    selected_option = select_unique_option(options, title)\n",
    "    return selected_option"
   ]
  },
  {
   "cell_type": "markdown",
   "id": "35f59dc1-025f-40da-a0bf-0975866f126c",
   "metadata": {
    "jp-MarkdownHeadingCollapsed": true
   },
   "source": [
    "### Create new Excel file"
   ]
  },
  {
   "cell_type": "code",
   "execution_count": 12,
   "id": "a30870f8-6629-4427-8ced-3bbc2d97a2e0",
   "metadata": {},
   "outputs": [],
   "source": [
    "def ask_file_name():\n",
    "    title = \"Enter file name:\"\n",
    "    file_name = ask_string_value(title) + '.xlsx'\n",
    "    return file_name\n",
    "    \n",
    "\n",
    "def create_new_excel_file():\n",
    "    file_name = ask_file_name()\n",
    "    print(f'name = {file_name}')\n",
    "    desktop_path = os.path.join(os.path.join(os.environ['USERPROFILE']), 'Desktop')\n",
    "    print(f'path - {desktop_path}')\n",
    "    file_path = os.path.join(desktop_path, file_name)\n",
    "    return file_path"
   ]
  },
  {
   "cell_type": "markdown",
   "id": "146bb789-93ac-4308-afbc-f0a7155c027a",
   "metadata": {
    "jp-MarkdownHeadingCollapsed": true
   },
   "source": [
    "### Write to existing Excel file"
   ]
  },
  {
   "cell_type": "code",
   "execution_count": 13,
   "id": "5538855b-8b80-4a5f-84fe-c6b63fe1fedc",
   "metadata": {},
   "outputs": [],
   "source": [
    "def get_file_path():\n",
    "    root = tk.Tk()\n",
    "    root.withdraw()\n",
    "\n",
    "    file_path = askopenfilename(\n",
    "        defaultextension=\".xlsx\",\n",
    "        filetypes=[(\"Excel files\", \"*.xlsx\"), (\"All files\", \"*.*\")],\n",
    "        title=\"Select Excel File\"\n",
    "    )\n",
    "\n",
    "    if not file_path:\n",
    "        messagebox.showerror('Error', 'No file selected')\n",
    "    return file_path\n",
    "\n",
    "\n",
    "def ask_sheet_name():\n",
    "    title = \"Enter sheet name:\"\n",
    "    sheet_name = ask_string_value(title)\n",
    "    return sheet_name"
   ]
  },
  {
   "cell_type": "code",
   "execution_count": 14,
   "id": "28184502-c798-47ad-b27c-025f4174a67b",
   "metadata": {},
   "outputs": [],
   "source": [
    "def write_to_excel(file_path, df, sheet_name):\n",
    "    first_row = 1\n",
    "    \n",
    "    if os.path.exists(file_path):\n",
    "        wb = load_workbook(file_path)\n",
    "        if sheet_name in wb.sheetnames:\n",
    "            sheet = wb[sheet_name]\n",
    "        else:\n",
    "            sheet = wb.create_sheet(sheet_name)\n",
    "\n",
    "        for row_idx, row in enumerate(dataframe_to_rows(df, index=False, header=True), start=first_row):\n",
    "            for col_idx, value in enumerate(row, start=1):\n",
    "                sheet.cell(row=row_idx, column=col_idx, value=value)\n",
    "        wb.save(file_path)\n",
    "        \n",
    "    else:\n",
    "        with pd.ExcelWriter(file_path, engine='openpyxl') as writer:\n",
    "            df.to_excel(writer, sheet_name=sheet_name, index=False, startrow=first_row)"
   ]
  },
  {
   "cell_type": "code",
   "execution_count": 15,
   "id": "99b59cee-2130-4285-a7fe-b56ca2b2c77a",
   "metadata": {},
   "outputs": [],
   "source": [
    "def manage_excel_sheets(df):\n",
    "    res = select_how_to_save_results()\n",
    "\n",
    "    file_path = ''\n",
    "    sheet_name = ''\n",
    "    if res == 'Create Excel file':\n",
    "        file_path = create_new_excel_file()\n",
    "        sheet_name = ask_sheet_name()\n",
    "    elif res == 'Save to existing file':\n",
    "        file_path = get_file_path()\n",
    "        sheet_name = ask_sheet_name()\n",
    "        \n",
    "    write_to_excel(file_path, df, sheet_name)"
   ]
  },
  {
   "cell_type": "markdown",
   "id": "ca926e17-8c31-4dad-95b2-085a65e2642a",
   "metadata": {},
   "source": [
    "### Main function"
   ]
  },
  {
   "cell_type": "code",
   "execution_count": 16,
   "id": "d4b50527-a670-447d-a78b-71f6259837eb",
   "metadata": {},
   "outputs": [],
   "source": [
    "def main():\n",
    "    raw_data = get_raw_data()\n",
    "    selected_options = select_options(raw_data)\n",
    "    \n",
    "    weekly_df = create_weekly_df(raw_data)\n",
    "    result_df = get_weekly_df(weekly_df, raw_data, selected_options)\n",
    "\n",
    "    manage_excel_sheets(result_df)\n",
    "    messagebox.showinfo(\"Congratulation!\", \"Data transformed and saved :)\") "
   ]
  },
  {
   "cell_type": "code",
   "execution_count": 17,
   "id": "894f631f-0951-4464-9a92-d79d4b4969e6",
   "metadata": {},
   "outputs": [
    {
     "name": "stdout",
     "output_type": "stream",
     "text": [
      "Excel file selected\n",
      "DataFrame loaded successfully.\n",
      "['youtube', 'display', 'telegram', 'pr', 'ooh']\n",
      "string_value = trtrtrtr\n"
     ]
    }
   ],
   "source": [
    "if __name__ == \"__main__\":\n",
    "    main()"
   ]
  }
 ],
 "metadata": {
  "kernelspec": {
   "display_name": "Python 3 (ipykernel)",
   "language": "python",
   "name": "python3"
  },
  "language_info": {
   "codemirror_mode": {
    "name": "ipython",
    "version": 3
   },
   "file_extension": ".py",
   "mimetype": "text/x-python",
   "name": "python",
   "nbconvert_exporter": "python",
   "pygments_lexer": "ipython3",
   "version": "3.12.4"
  }
 },
 "nbformat": 4,
 "nbformat_minor": 5
}
