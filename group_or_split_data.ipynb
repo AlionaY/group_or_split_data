{
 "cells": [
  {
   "cell_type": "markdown",
   "id": "7e0ce8dd-245f-4627-b552-50c33648c092",
   "metadata": {},
   "source": [
    "### Instructions"
   ]
  },
  {
   "attachments": {
    "6c7afc00-3dbf-459d-8b24-8a7dc5de8a33.png": {
     "image/png": "[encoded data removed]"
    }
   },
   "cell_type": "markdown",
   "id": "d30bb8a8-8ab8-4634-8438-ffe919a223ca",
   "metadata": {},
   "source": [
    "Перший раз запустити код з допомогою кнопки ![image.png](attachment:6c7afc00-3dbf-459d-8b24-8a7dc5de8a33.png)\n",
    "\n",
    "Для повторної роботи з кодом, достатньо перезапустити останній блок коду if __name__ == \"__main__\": main()\n",
    "\n",
    "**!!! У таблиці має бути лише одна колонка, в назві якої буде слово Month або Year (не має значення як написано слово - з великої літери, капсом тощо)**\n",
    "<br>**Всі '-' (пропуски) потрібно замінити на 0**\n",
    "\n",
    "\n",
    "1. Обрати файл з даними\n",
    "2. Обрати лист з таблицею\n",
    "3. Обрати значення, по яким будуть відфільтровані дані\n",
    "   <br>ВАЖЛИВО: фільтруються лише не числові значення: якщо в таблиці лише колонки з числами, цей пункт буде пропущено\n",
    "4. Обрати Growth rate / Split:\n",
    "   * Growth rate -> обрати що зробити з даними по кожній з колонок (sum, average, max)\n",
    "   *  Split -> обрати колонку, по якій буде зроблено спліт даних\n",
    "5. Обрати куди зберегти результати:\n",
    "   * створити новий файл:\n",
    "     <br>написати назву файлу -> написати назву листа (sheet)\n",
    "     <br>ФАЙЛ СТВОРЮЄТЬСЯ НА РОБОЧОМУ СТОЛІ \n",
    "\n",
    "     \n",
    "   * зберегти результати в існуючому файлі:\n",
    "     <br>вибрати файл, в якому буде збережено результати -> написати назву листа (sheet)\n",
    "     <br>ФАЙЛ, В ЯКОМУ БУДЕ ЗБЕРЕЖЕНО РЕЗУЛЬТАТИ, МАЄ БУТИ ЗАКРИТИМ"
   ]
  },
  {
   "cell_type": "markdown",
   "id": "09f0d2f9-9ab8-412a-b789-c736ced2aef9",
   "metadata": {
    "jp-MarkdownHeadingCollapsed": true
   },
   "source": [
    "### Imports"
   ]
  },
  {
   "cell_type": "code",
   "execution_count": 1,
   "id": "29200194-6087-4e87-b814-edb311b4fddf",
   "metadata": {},
   "outputs": [],
   "source": [
    "# pip install pandas\n",
    "# pip install numpy\n",
    "# pip install tkinter\n",
    "# pip install openpyxl\n",
    "# pip install XlsxWriter"
   ]
  },
  {
   "cell_type": "code",
   "execution_count": 2,
   "id": "65a315a3-4316-4569-ac81-933b3116d62e",
   "metadata": {},
   "outputs": [],
   "source": [
    "import os\n",
    "import pandas as pd\n",
    "import numpy as np\n",
    "import tkinter as tk\n",
    "from tkinter import ttk, Tk, Toplevel, Listbox, Button, SINGLE, END, IntVar, Checkbutton, Label, MULTIPLE, Radiobutton, StringVar, messagebox, simpledialog\n",
    "from tkinter.filedialog import askopenfilename, asksaveasfilename\n",
    "\n",
    "from openpyxl import Workbook, load_workbook\n",
    "from openpyxl.utils.dataframe import dataframe_to_rows"
   ]
  },
  {
   "cell_type": "markdown",
   "id": "ff60c2c9-4d28-404e-b590-f7fa5e52439f",
   "metadata": {
    "jp-MarkdownHeadingCollapsed": true
   },
   "source": [
    "### General"
   ]
  },
  {
   "cell_type": "code",
   "execution_count": 3,
   "id": "e8351e04-91db-4455-b503-432a82fa683a",
   "metadata": {},
   "outputs": [],
   "source": [
    "operations = [\"sum\", \"mean\", \"max\"]"
   ]
  },
  {
   "cell_type": "code",
   "execution_count": 4,
   "id": "64261197-287a-4700-9784-d6cd86373b2c",
   "metadata": {},
   "outputs": [],
   "source": [
    "def get_year_month_cols(df):\n",
    "    return [col for col in df.columns if 'year' in col or 'month' in col]\n",
    "\n",
    "def get_numeric_cols(df):\n",
    "    return [col for col in df.select_dtypes(include='number')]"
   ]
  },
  {
   "cell_type": "code",
   "execution_count": 5,
   "id": "5e72f6d0-76c4-4ee6-813a-f462a7284553",
   "metadata": {},
   "outputs": [],
   "source": [
    "def select_unique_option(options, title):    \n",
    "    def on_selected():\n",
    "        root.destroy()\n",
    "\n",
    "    root = Toplevel()\n",
    "    root.title(title)\n",
    "    root.geometry('600x600')\n",
    "\n",
    "    selected_option = StringVar(value=options[0])\n",
    "    for option in options:\n",
    "         radio_button = tk.Radiobutton(root, text=option, variable=selected_option, value=option)\n",
    "         radio_button.pack(anchor='w')\n",
    "    \n",
    "    select_button = tk.Button(root, text=\"Select\", command=on_selected)\n",
    "    select_button.pack()\n",
    "    root.wait_window()\n",
    "\n",
    "    return selected_option.get()"
   ]
  },
  {
   "cell_type": "code",
   "execution_count": 6,
   "id": "93f1d625-6ddf-481a-af69-f4bef6801b12",
   "metadata": {},
   "outputs": [],
   "source": [
    "def ask_string_value(title):\n",
    "    root = tk.Tk()\n",
    "    root.withdraw()\n",
    "\n",
    "    string_value = simpledialog.askstring(\"Excel Sheet Name\", title)\n",
    "    print(f'string_value = {string_value}')\n",
    "    if string_value:\n",
    "        return string_value.strip()\n",
    "    else:\n",
    "        messagebox.showerror('Error', 'No sheet name was entered') \n",
    "        return None"
   ]
  },
  {
   "cell_type": "code",
   "execution_count": 7,
   "id": "4a127dc3-135a-489d-80f3-80e251445092",
   "metadata": {},
   "outputs": [],
   "source": [
    "class ScrollableFrame(ttk.Frame):\n",
    "    def __init__(self, container, *args, **kwargs):\n",
    "        super().__init__(container, *args, **kwargs)\n",
    "        canvas = tk.Canvas(self)\n",
    "        \n",
    "        scrollbar = ttk.Scrollbar(self, orient=\"vertical\", command=canvas.yview)\n",
    "        self.scrollable_frame = ttk.Frame(canvas)\n",
    "\n",
    "        self.scrollable_frame.bind(\n",
    "            \"<Configure>\",\n",
    "            lambda e: canvas.configure(\n",
    "                scrollregion=canvas.bbox(\"all\")\n",
    "            )\n",
    "        )\n",
    "\n",
    "        canvas.create_window((0, 0), window=self.scrollable_frame, anchor=\"nw\")\n",
    "        canvas.configure(yscrollcommand=scrollbar.set)\n",
    "        canvas.pack(side=\"left\", fill=\"both\", expand=True)\n",
    "        scrollbar.pack(side=\"right\", fill=\"y\")"
   ]
  },
  {
   "cell_type": "markdown",
   "id": "8b948272-a5c6-4b4c-be86-485f17e8ff04",
   "metadata": {
    "jp-MarkdownHeadingCollapsed": true
   },
   "source": [
    "### Load a file"
   ]
  },
  {
   "cell_type": "code",
   "execution_count": 8,
   "id": "a5b4574d-3417-42c3-9afc-18380b3b1e1d",
   "metadata": {},
   "outputs": [],
   "source": [
    "def choose_filename():\n",
    "    Tk().withdraw()\n",
    "\n",
    "    filename = askopenfilename(\n",
    "        title=\"Select an Excel file\",\n",
    "        filetypes=[(\"Excel files\", \"*.xlsx *.xls\")]\n",
    "    )\n",
    "    return filename\n",
    "\n",
    "\n",
    "def select_sheet(sheet_names):\n",
    "    top = Toplevel()\n",
    "    top.title(\"Select a sheet\")\n",
    "    top.geometry('600x600')\n",
    "    \n",
    "    listbox = Listbox(top, selectmode=SINGLE)\n",
    "    for sheet in sheet_names:\n",
    "        listbox.insert(END, sheet)\n",
    "    listbox.pack(padx=10, pady=10)\n",
    "\n",
    "    selected_sheet = []\n",
    "\n",
    "    def on_select():\n",
    "        selection = listbox.curselection()\n",
    "        if selection:\n",
    "            selected_sheet.append(sheet_names[selection[0]])\n",
    "        top.destroy()\n",
    "\n",
    "    button = Button(top, text=\"Select\", command=on_select)\n",
    "    button.pack(pady=5)\n",
    "\n",
    "    top.wait_window(top)\n",
    "    return selected_sheet[0] if selected_sheet else None\n",
    "\n",
    "\n",
    "def read_excel_file(filename, sheet_name):\n",
    "    df = pd.read_excel(filename, sheet_name=sheet_name) \n",
    "    df.columns = map(str.lower, df.columns)\n",
    "    print('Excel file selected')\n",
    "    return df"
   ]
  },
  {
   "cell_type": "code",
   "execution_count": 9,
   "id": "70668821-0354-4437-90e1-e633bbdad162",
   "metadata": {},
   "outputs": [],
   "source": [
    "def get_dataframe():\n",
    "    file_path = choose_filename()\n",
    "    \n",
    "    if file_path:\n",
    "        xls = pd.ExcelFile(file_path)\n",
    "        sheet_name = select_sheet(xls.sheet_names)\n",
    "\n",
    "        if sheet_name in xls.sheet_names:\n",
    "            df = read_excel_file(file_path, sheet_name)\n",
    "            print(\"DataFrame loaded successfully.\")\n",
    "            return df\n",
    "        else:\n",
    "            messagebox.showerror('Error', \"Invalid sheet name selected.\")\n",
    "    else:\n",
    "        messagebox.showerror('Error', \"No file selected.\") "
   ]
  },
  {
   "cell_type": "markdown",
   "id": "8613fc86-bf22-43f2-967f-3e00cafe55a6",
   "metadata": {},
   "source": [
    "### Filter data"
   ]
  },
  {
   "cell_type": "code",
   "execution_count": 10,
   "id": "079a21b7-9ad5-45ee-ba45-69e7f93ddcb2",
   "metadata": {},
   "outputs": [],
   "source": [
    "def select_filter_values(df):\n",
    "    def hide_window():\n",
    "        root.withdraw()\n",
    "        root.quit()\n",
    "        \n",
    "    root = Tk()\n",
    "    root.title('Select values to filter')\n",
    "    root.geometry('600x600')\n",
    "\n",
    "    scrollable_frame = ScrollableFrame(root)\n",
    "    scrollable_frame.pack(fill=\"both\", expand=True)\n",
    "\n",
    "    object_cols = df.select_dtypes(include='object').columns.tolist()\n",
    "    listboxes_dict = {}\n",
    "    for column in object_cols:\n",
    "        if object_cols or column in get_year_month_cols(df):\n",
    "            unique_values = df[column].unique().tolist()\n",
    "            \n",
    "            Label(scrollable_frame.scrollable_frame, text=column).pack(pady=5)\n",
    "            listbox = Listbox(scrollable_frame.scrollable_frame, selectmode=MULTIPLE, exportselection=False)\n",
    "            listboxes_dict[column] = listbox\n",
    "            \n",
    "            for value in sorted(unique_values):\n",
    "                listbox.insert(tk.END, value)\n",
    "            listbox.pack(fill=tk.BOTH, expand=True)\n",
    "\n",
    "    Button(scrollable_frame, text=\"Apply\", command=hide_window).pack()\n",
    "    root.mainloop()\n",
    "    return listboxes_dict\n",
    "    \n",
    "\n",
    "def get_applied_filters_df(filters):\n",
    "    applied_filters = {k:v for k, v in filters.items() if v}\n",
    "    max_length = max(len(v) for v in applied_filters.values())\n",
    "\n",
    "    for key, val in applied_filters.items():\n",
    "        if len(val) < max_length:\n",
    "            nan_count = max_length - len(val)\n",
    "            val.extend([\" \"] * nan_count)\n",
    "    applied_filters_df = pd.DataFrame(applied_filters)\n",
    "    print(f'applied_filters_df = {applied_filters_df}')\n",
    "    return applied_filters_df\n",
    "\n",
    "\n",
    "def filter_dataframe(df): \n",
    "    listboxes_dict = select_filter_values(df)\n",
    "    filters = {}\n",
    "    filtered_df = df.copy()\n",
    "    for column, box in listboxes_dict.items():\n",
    "        selected_values = [box.get(i) for i in box.curselection()]\n",
    "        if \"All\" not in selected_values:\n",
    "            filters[column] = selected_values\n",
    "\n",
    "    applied_filters_df = get_applied_filters_df(filters)\n",
    "    \n",
    "    for col, values in filters.items():\n",
    "        query_str = ' & '.join([f'`{col}` in {value}' for col, value in filters.items() if value])\n",
    "        print(query_str)\n",
    "        filtered_df = df.query(query_str)\n",
    "        return filtered_df, applied_filters_df\n",
    "    return 'Something went wrong', applied_filters_df \n"
   ]
  },
  {
   "cell_type": "markdown",
   "id": "abf94ff7-4224-4613-b3a7-6e4a3a9a1ec4",
   "metadata": {
    "jp-MarkdownHeadingCollapsed": true
   },
   "source": [
    "### Choose \"Growth rate\" or \"Split\""
   ]
  },
  {
   "cell_type": "code",
   "execution_count": 11,
   "id": "e6c8eac7-59ec-4935-94d7-bc04bd1b1908",
   "metadata": {},
   "outputs": [],
   "source": [
    "def select_group_or_split():\n",
    "    options = ['Growth rate', 'Split']\n",
    "    title = 'I want to get...'\n",
    "    selected_option = select_unique_option(options, title)\n",
    "    return selected_option"
   ]
  },
  {
   "cell_type": "markdown",
   "id": "3251ae8a-3b31-420f-9622-5e18bed4b453",
   "metadata": {},
   "source": [
    "### Get growth rate results"
   ]
  },
  {
   "cell_type": "code",
   "execution_count": 12,
   "id": "e153a617-e995-44de-9144-28296f181a82",
   "metadata": {},
   "outputs": [],
   "source": [
    "def select_aggregations_to_apply(df):\n",
    "    def hide_window():\n",
    "        root.withdraw()\n",
    "        root.quit()\n",
    "        \n",
    "    root = Tk()\n",
    "    root.geometry('600x600')\n",
    "    \n",
    "    scrollable_frame = ScrollableFrame(root)\n",
    "    scrollable_frame.pack(fill=\"both\", expand=True)\n",
    "\n",
    "    numeric_cols = df.select_dtypes(include='number').columns.tolist()\n",
    "    cols_to_transform = [col for col in numeric_cols if col not in get_year_month_cols(df)]    \n",
    "\n",
    "    listboxes_dict = {}\n",
    "    for column in cols_to_transform:\n",
    "        Label(scrollable_frame.scrollable_frame, text=column).pack(pady=5)\n",
    "        listbox = Listbox(scrollable_frame.scrollable_frame, selectmode=MULTIPLE, exportselection=False)\n",
    "        listboxes_dict[column] = listbox\n",
    "            \n",
    "        for value in operations:\n",
    "            listbox.insert(tk.END, value)\n",
    "        listbox.pack(fill=tk.BOTH, expand=True)\n",
    "\n",
    "    Button(scrollable_frame.scrollable_frame, text=\"Apply\", command=hide_window).pack()\n",
    "    root.mainloop()\n",
    "    return listboxes_dict\n",
    "\n",
    "\n",
    "def group_data_monthly(df):\n",
    "    def apply_aggregations():\n",
    "        aggregations = {}\n",
    "        for column, box in listboxes_dict.items():\n",
    "            selected_values = [box.get(i) for i in box.curselection()]\n",
    "            aggregations[column] = selected_values\n",
    "\n",
    "        grouped_df = filtered_df.groupby(get_year_month_cols(df)).agg(aggregations)\n",
    "        grouped_df.columns = ['{}_{}'.format(col, op) for col, op in grouped_df.columns]\n",
    "        print('Data has been group successfully')\n",
    "        return grouped_df.reset_index()\n",
    "\n",
    "    listboxes_dict = select_aggregations_to_apply(df)\n",
    "    numeric_cols = df.select_dtypes(include='number').columns.tolist()\n",
    "    filtered_df = df[numeric_cols]\n",
    "\n",
    "    grouped_monthly_df = apply_aggregations()\n",
    "    return grouped_monthly_df.round(2)"
   ]
  },
  {
   "cell_type": "code",
   "execution_count": 42,
   "id": "60246aa9-2234-47a4-8f62-e89083e7bb2f",
   "metadata": {},
   "outputs": [],
   "source": [
    "def get_year_aggregations(df):\n",
    "    column_aggregations = {}\n",
    "    for column in df.columns:\n",
    "        for aggregation in operations:\n",
    "            if aggregation in column:\n",
    "                column_aggregations[column] = aggregation\n",
    "    aggregated_df = df.groupby('year').agg(column_aggregations).reset_index()\n",
    "    return aggregated_df.round(2)\n",
    "    \n",
    "\n",
    "def apply_total_aggs(df, year_col_value):\n",
    "    totals = pd.DataFrame([{'year': f'{year_col_value}'}])\n",
    "    for col in df.columns:\n",
    "        for agg in operations:\n",
    "            if agg in col:\n",
    "                if agg == 'mean':\n",
    "                    totals[col] = df.loc[:, col].mean()\n",
    "                elif agg == 'sum':\n",
    "                    totals[col] = df.loc[:, col].sum()\n",
    "                elif agg == 'max':\n",
    "                    totals[col] = df.loc[:, col].max()\n",
    "    return totals.round(2)\n",
    "\n",
    "\n",
    "def get_growth_percentage(df):\n",
    "    df_prev_year= df.shift(1)\n",
    "    year_col = [col for col in df.columns if 'year' in col]\n",
    "    numeric_cols = [col for col in df.columns if col not in year_col]\n",
    "    growth_df = (df[numeric_cols] / df_prev_year[numeric_cols]) - 1\n",
    "    result_df = pd.concat([df[year_col], growth_df], axis=1)\n",
    "    return result_df.round(2)\n",
    "\n",
    "\n",
    "def get_year_to_date(df):\n",
    "    year_col = [col for col in df.columns if 'year' in col][0]  #get only name of col\n",
    "    month_col = [col for col in df.columns if 'month' in col][0]  #get only name of col\n",
    "\n",
    "    ytd_dict = {}\n",
    "    last_year_df = df[df[year_col] == df[year_col].max()]\n",
    "    ytd_dict['last_year'] = last_year_df[year_col].max()    \n",
    "    ytd_dict['last_month'] = last_year_df[month_col].max()\n",
    "\n",
    "    last_year = ytd_dict.get('last_year')\n",
    "    prev_year = last_year - 1\n",
    "    \n",
    "    prev_year_df = df[(df[year_col] == prev_year) & (df[month_col] <= ytd_dict.get('last_month'))]  \n",
    "    \n",
    "    ytd_totals = apply_total_aggs(prev_year_df, f'YTD{prev_year}')\n",
    "    print(f'ytd_totals \\\\n {ytd_totals}')\n",
    "    return ytd_totals\n",
    "\n",
    "\n",
    "def get_ytd_growth_rate(df, ytd_prev_year):\n",
    "    year_col = [col for col in df.columns if 'year' in col][0]  #get only name of col\n",
    "    last_year_df = df[df[year_col] == df[year_col].max()]\n",
    "    print(f'ytd_prev_year = {ytd_prev_year}')\n",
    "    print(f'last_year_df = {last_year_df}')\n",
    "    \n",
    "    result_df = last_year_df[[year_col]].copy() \n",
    "    \n",
    "    for col in last_year_df.columns:\n",
    "        if col != year_col:\n",
    "            result_df[col] = last_year_df[col] / ytd_prev_year[col].values[0]\n",
    "    print(f'last_year_df = {result_df}')\n",
    "    return result_df\n",
    "\n",
    "\n",
    "def get_total_data_by_years(df):\n",
    "    aggregated_df = get_year_aggregations(df)\n",
    "    percentage_df = get_growth_percentage(aggregated_df)\n",
    "\n",
    "    total_df = apply_total_aggs(df, 'Total')\n",
    "    if df.columns.str.contains('month').any():\n",
    "        ytd_prev_year = get_year_to_date(df)\n",
    "        total_aggregated_df = pd.concat([aggregated_df, total_df, ytd_prev_year])\n",
    "        print(f'aggregated_df = {aggregated_df}')\n",
    "        \n",
    "        ytd_growth_rate = get_ytd_growth_rate(aggregated_df, ytd_prev_year)\n",
    "        percentage_df = pd.concat([percentage_df, ytd_growth_rate])\n",
    "    else:\n",
    "        total_aggregated_df = pd.concat([aggregated_df, total_df])\n",
    "    return total_aggregated_df, percentage_df"
   ]
  },
  {
   "cell_type": "code",
   "execution_count": 14,
   "id": "9c980314-4c4f-4ee5-a4b1-5d0404727093",
   "metadata": {},
   "outputs": [],
   "source": [
    "def get_grouped_data(df):\n",
    "    grouped_monthly = group_data_monthly(df)\n",
    "    grouped_yearly, growth_rates = get_total_data_by_years(grouped_monthly)\n",
    "    return [grouped_yearly, growth_rates, grouped_monthly]"
   ]
  },
  {
   "cell_type": "markdown",
   "id": "f8d8d1cd-260b-447a-83ab-ffccff945eb3",
   "metadata": {},
   "source": [
    "### Split selected column"
   ]
  },
  {
   "cell_type": "code",
   "execution_count": 15,
   "id": "6297e83a-b7c6-4693-bbe1-6c550c489a23",
   "metadata": {},
   "outputs": [],
   "source": [
    "def rename_cols(df):\n",
    "    col_names = [name for name in df.index.names]\n",
    "    for name in df.columns.get_level_values(1):\n",
    "        col_names.append(name)\n",
    "    flatten_df = df.reset_index()\n",
    "    flatten_df.columns = col_names\n",
    "    return flatten_df\n",
    "\n",
    "def add_grand_total(df):\n",
    "    result_df = df.fillna(0)\n",
    "    value_cols = [col for col in result_df.columns if col not in get_year_month_cols(result_df)]\n",
    "    result_df['Grand Total'] = result_df[value_cols].sum(axis=1).round(2)\n",
    "    return result_df"
   ]
  },
  {
   "cell_type": "code",
   "execution_count": 16,
   "id": "ad05e0dc-7181-4644-adaa-a50705f1a907",
   "metadata": {},
   "outputs": [],
   "source": [
    "def select_single_column_name(split_column_options):\n",
    "    def on_selected():\n",
    "        root.destroy()\n",
    "        \n",
    "    root = Toplevel()\n",
    "    root.geometry('600x600')\n",
    "    \n",
    "    selected_col = StringVar(value=split_column_options[0])\n",
    "    for col in split_column_options:\n",
    "         radio_button = Radiobutton(root, text=col, variable=selected_col, value=col)\n",
    "         radio_button.pack(anchor='w')\n",
    "    \n",
    "    select_button = tk.Button(root, text=\"Select\", command=on_selected)\n",
    "    select_button.pack()\n",
    "    root.wait_window()\n",
    "    return selected_col.get()"
   ]
  },
  {
   "cell_type": "code",
   "execution_count": 17,
   "id": "9f76b68d-5fb5-41b1-b7de-60c6a4737939",
   "metadata": {},
   "outputs": [],
   "source": [
    "def select_column_to_split(df):\n",
    "    '''\n",
    "    Select one object column which will be splitted by numeric column (select_col_to_split_by)\n",
    "    '''\n",
    "    split_column_options = [col for col in df.columns if col in df.select_dtypes(include='object')]\n",
    "    selected_col = select_single_column_name(split_column_options)\n",
    "    return selected_col"
   ]
  },
  {
   "cell_type": "code",
   "execution_count": 18,
   "id": "3550b523-9980-43f9-907f-e8de8dc7b9a3",
   "metadata": {},
   "outputs": [],
   "source": [
    "def select_col_to_split_by(df):\n",
    "    '''\n",
    "    Select a single numeric column to be split between the object column (select_column_to_split)\n",
    "    '''\n",
    "    split_column_options = [col for col in df.select_dtypes(include='number') if col not in get_year_month_cols(df)]\n",
    "    selected_col = select_single_column_name(split_column_options)\n",
    "    return selected_col"
   ]
  },
  {
   "cell_type": "code",
   "execution_count": 19,
   "id": "97adfd21-e1a3-4a76-bb8a-70ad84e5a7b9",
   "metadata": {},
   "outputs": [],
   "source": [
    "def group_by_year_month(df):\n",
    "    split_cols = []\n",
    "    if len(df.select_dtypes(exclude='number').columns.tolist()) > 0:\n",
    "        column_to_split = select_column_to_split(df)\n",
    "        split_cols.append(column_to_split)\n",
    "        \n",
    "        value_col_to_split_by = select_col_to_split_by(df)\n",
    "        split_cols.append(value_col_to_split_by)\n",
    "\n",
    "    year_month_cols = get_year_month_cols(df)\n",
    "\n",
    "    cols_to_show = year_month_cols + split_cols\n",
    "    filtered_df = df[cols_to_show]\n",
    "\n",
    "    grouped_df = filtered_df.groupby(year_month_cols).sum().reset_index()\n",
    "    return filtered_df"
   ]
  },
  {
   "cell_type": "code",
   "execution_count": 20,
   "id": "6e2e26ce-b879-411a-8192-8220ab1c9de8",
   "metadata": {},
   "outputs": [],
   "source": [
    "def make_pivot_monthly(df):  \n",
    "    year_month_cols = get_year_month_cols(df)\n",
    "    \n",
    "    object_cols = df.select_dtypes(include='object').columns.tolist()\n",
    "    number_cols = df.select_dtypes(include='number').columns.tolist()\n",
    "    \n",
    "    value_cols = [col for col in number_cols if col not in year_month_cols]\n",
    "    group_by_cols = year_month_cols + object_cols\n",
    "\n",
    "    grouped_df = df.groupby(by=group_by_cols).sum().reset_index()\n",
    "    pivot_df = grouped_df.pivot_table(values=value_cols, index=year_month_cols, columns=object_cols).fillna(0)\n",
    "    pivot_df = rename_cols(pivot_df)\n",
    "    pivot_df = add_grand_total(pivot_df)\n",
    "\n",
    "    print('Data has been split successfully')\n",
    "    return pivot_df"
   ]
  },
  {
   "cell_type": "code",
   "execution_count": 56,
   "id": "b9d96312-bb57-468c-8b71-4d8313ca6f8d",
   "metadata": {},
   "outputs": [],
   "source": [
    "def get_pivot_yearly(df):\n",
    "    def get_totals(df):\n",
    "        new_df = df.copy().reset_index()\n",
    "        totals = pd.DataFrame([{'year': 'Total'}])\n",
    "        for col in new_df.columns:\n",
    "            totals[col] = new_df.loc[:, col].mean()\n",
    "        return totals\n",
    "\n",
    "    pivot_yearly = df.copy()\n",
    "    month_col = [col for col in df.columns if 'month' in col]\n",
    "    year_col = [col for col in df.columns if 'year' in col]\n",
    "    \n",
    "    if len(month_col) > 0:\n",
    "        pivot_yearly = df.drop(month_col, axis=1)\n",
    "        \n",
    "    pivot_yearly = pivot_yearly.groupby(year_col).sum().reset_index()\n",
    "    totals = get_totals(pivot_yearly)\n",
    "    \n",
    "    total_df = pd.concat([pivot_yearly, totals])\n",
    "    total_df['Grand Total'] = total_df['Grand Total'].round(2)\n",
    "    return total_df.round(2)"
   ]
  },
  {
   "cell_type": "code",
   "execution_count": 22,
   "id": "df3c081d-2ee3-44bd-99c8-05e0cc368c0f",
   "metadata": {},
   "outputs": [],
   "source": [
    "def get_split_by_years(df):\n",
    "    split_df = df.copy()  \n",
    "    \n",
    "    for col in split_df.columns[1:]:  # except 'year'\n",
    "        split_df[col] = split_df[col] / split_df['Grand Total']\n",
    "    return split_df"
   ]
  },
  {
   "cell_type": "code",
   "execution_count": 54,
   "id": "f5c2f654-d04e-422c-87f0-60f238452fcf",
   "metadata": {},
   "outputs": [],
   "source": [
    "def get_splitted_data(df):\n",
    "    grouped_df = group_by_year_month(df)\n",
    "    pivot_monthly_df = pd.DataFrame()\n",
    "    \n",
    "    if df.columns.str.contains('month').any():\n",
    "        pivot_monthly_df = make_pivot_monthly(grouped_df)\n",
    "\n",
    "    pivot_yearly_df = get_pivot_yearly(pivot_monthly_df)\n",
    "    split_df = get_split_by_years(pivot_yearly_df)\n",
    "   \n",
    "    return [pivot_yearly_df, split_df, pivot_monthly_df]"
   ]
  },
  {
   "cell_type": "markdown",
   "id": "ffd677b1-a501-4a90-8f89-a2cdd8341eb5",
   "metadata": {
    "jp-MarkdownHeadingCollapsed": true
   },
   "source": [
    "### Choose \"Create Excel file\" or \"Save to existing file\""
   ]
  },
  {
   "cell_type": "code",
   "execution_count": 24,
   "id": "ddf44841-ad65-420a-b08f-8e88265dce6a",
   "metadata": {},
   "outputs": [],
   "source": [
    "def select_how_to_save_results():\n",
    "    options = ['Create Excel file', 'Save to existing file']\n",
    "    title = 'I want to...'\n",
    "    selected_option = select_unique_option(options, title)\n",
    "    return selected_option"
   ]
  },
  {
   "cell_type": "markdown",
   "id": "e56cbc50-e050-4b69-adb3-2015a64e726c",
   "metadata": {},
   "source": [
    "### Create new Excel file"
   ]
  },
  {
   "cell_type": "code",
   "execution_count": 25,
   "id": "d3dc7ba7-301d-40c4-8633-a79a828ceda7",
   "metadata": {},
   "outputs": [],
   "source": [
    "def ask_file_name():\n",
    "    title = \"Enter file name:\"\n",
    "    file_name = ask_string_value(title) + '.xlsx'\n",
    "    return file_name"
   ]
  },
  {
   "cell_type": "code",
   "execution_count": 26,
   "id": "b51083db-0bbe-4da1-9728-6b8f523fd5e7",
   "metadata": {},
   "outputs": [],
   "source": [
    "def create_new_excel_file():\n",
    "    file_name = ask_file_name()\n",
    "    print(f'name = {file_name}')\n",
    "    desktop_path = os.path.join(os.path.join(os.environ['USERPROFILE']), 'Desktop')\n",
    "    print(f'path - {desktop_path}')\n",
    "    file_path = os.path.join(desktop_path, file_name)\n",
    "    return file_path"
   ]
  },
  {
   "cell_type": "markdown",
   "id": "f7456b59-1896-4ed1-a9a3-02cb9254a6f9",
   "metadata": {},
   "source": [
    "### Write to existing Excel file"
   ]
  },
  {
   "cell_type": "code",
   "execution_count": 27,
   "id": "9014692a-8825-4ae7-a2ab-bfab7b2a9daf",
   "metadata": {},
   "outputs": [],
   "source": [
    "def get_file_path():\n",
    "    root = tk.Tk()\n",
    "    root.withdraw()\n",
    "\n",
    "    file_path = askopenfilename(\n",
    "        defaultextension=\".xlsx\",\n",
    "        filetypes=[(\"Excel files\", \"*.xlsx\"), (\"All files\", \"*.*\")],\n",
    "        title=\"Select Excel File\"\n",
    "    )\n",
    "\n",
    "    if not file_path:\n",
    "        messagebox.showerror('Error', 'No file selected')\n",
    "    return file_path"
   ]
  },
  {
   "cell_type": "code",
   "execution_count": 28,
   "id": "e55a58cb-2604-4c85-b7d8-e030c23877cd",
   "metadata": {},
   "outputs": [],
   "source": [
    "def ask_sheet_name():\n",
    "    title = \"Enter sheet name:\"\n",
    "    sheet_name = ask_string_value(title)\n",
    "    return sheet_name"
   ]
  },
  {
   "cell_type": "code",
   "execution_count": 29,
   "id": "61e8fb5c-258f-4142-ab11-ea9e1ff9a63b",
   "metadata": {},
   "outputs": [],
   "source": [
    "def write_to_excel(file_path, df_list, sheet_name):\n",
    "    if os.path.exists(file_path):\n",
    "        first_row = 1\n",
    "        wb = load_workbook(file_path)\n",
    "        if sheet_name in wb.sheetnames:\n",
    "            sheet = wb[sheet_name]\n",
    "        else:\n",
    "            sheet = wb.create_sheet(sheet_name)\n",
    "\n",
    "        for df in df_list:\n",
    "            for row_idx, row in enumerate(dataframe_to_rows(df, index=False, header=True), start=first_row):\n",
    "                for col_idx, value in enumerate(row, start=1):\n",
    "                    sheet.cell(row=row_idx, column=col_idx, value=value)\n",
    "            first_row += len(df) + 4\n",
    "\n",
    "        wb.save(file_path)\n",
    "    else:\n",
    "        with pd.ExcelWriter(file_path, engine='openpyxl') as writer:\n",
    "            first_row = 0\n",
    "            for df in df_list:\n",
    "                df.to_excel(writer, sheet_name=sheet_name, index=False, startrow=first_row)\n",
    "                first_row += len(df) + 4"
   ]
  },
  {
   "cell_type": "code",
   "execution_count": 30,
   "id": "d70eadc6-5eff-49bf-a6cf-676ebb6f7fa7",
   "metadata": {},
   "outputs": [],
   "source": [
    "def manage_excel_sheets(df_list):\n",
    "    res = select_how_to_save_results()\n",
    "\n",
    "    file_path = ''\n",
    "    sheet_name = ''\n",
    "    if res == 'Create Excel file':\n",
    "        file_path = create_new_excel_file()\n",
    "        sheet_name = ask_sheet_name()\n",
    "    elif res == 'Save to existing file':\n",
    "        file_path = get_file_path()\n",
    "        sheet_name = ask_sheet_name()\n",
    "        \n",
    "    write_to_excel(file_path, df_list, sheet_name)"
   ]
  },
  {
   "cell_type": "markdown",
   "id": "f33645e6-77a5-4f91-8a20-7fff08a78dca",
   "metadata": {},
   "source": [
    "### Main function"
   ]
  },
  {
   "cell_type": "code",
   "execution_count": 36,
   "id": "a0075032-260f-477c-a99e-703d2eb04a34",
   "metadata": {},
   "outputs": [],
   "source": [
    "def main():    \n",
    "    df = get_dataframe()\n",
    "\n",
    "    df.replace('-', 0, inplace=True)\n",
    "    \n",
    "    if len(df.select_dtypes(include='object').columns.tolist()) > 0:\n",
    "        filtered_df, applied_filters_df = filter_dataframe(df)\n",
    "    else:\n",
    "        filtered_df = df.copy()\n",
    "        applied_filters_df = pd.DataFrame()\n",
    "\n",
    "    result_df_list = [applied_filters_df]\n",
    "    selected_option = select_group_or_split()\n",
    "    if selected_option == 'Split':\n",
    "        result_df_list += get_splitted_data(filtered_df)\n",
    "    elif selected_option == 'Growth rate':\n",
    "        result_df_list += get_grouped_data(filtered_df)\n",
    "    else:\n",
    "        messagebox.showerror(\"Error\", \"Something went wrong\")\n",
    "\n",
    "    manage_excel_sheets(result_df_list)\n",
    "    messagebox.showinfo(\"Congratulation!\", \"Data transformed and saved :)\") "
   ]
  },
  {
   "cell_type": "code",
   "execution_count": 57,
   "id": "8f1653d7-579c-4c4a-9f62-df8eb4814487",
   "metadata": {},
   "outputs": [
    {
     "name": "stdout",
     "output_type": "stream",
     "text": [
      "Excel file selected\n",
      "DataFrame loaded successfully.\n",
      "obj cols = ['retail', 'type', 'аналітична група', 'subgroup', 'package_type', 'manufacturer', 'brand', 'un_sku_def_brand']\n",
      "applied_filters_df =   subgroup package_type        brand\n",
      "0     філе          фас  Nasha Ryaba\n",
      "`subgroup` in ['філе'] & `package_type` in ['фас'] & `brand` in ['Nasha Ryaba']\n",
      "Data has been split successfully\n",
      "total_df = Index(['year', 'Nasha Ryaba Chilled Курка Філе 4 Кг Упаковка Фас 1000G',\n",
      "       'Nasha Ryaba Chilled Курка Філе 9 Кг Упаковка Фас 1000G',\n",
      "       'Nasha Ryaba Chilled Курка Філе Butterfly Фас 1000G',\n",
      "       'Nasha Ryaba Chilled Курка Філе Фас 1000G',\n",
      "       'Nasha Ryaba Chilled Курка Філе Халяль Фас 1000G',\n",
      "       'Nasha Ryaba Culinary Курка Філе Sous-Vide Фас 1000G', 'Grand Total',\n",
      "       'index'],\n",
      "      dtype='object')\n",
      "pivot_yearly_df =      year  Nasha Ryaba Chilled Курка Філе 4 Кг Упаковка Фас 1000G  \\\n",
      "0  2018.0                                               0.00        \n",
      "1  2019.0                                           25913.49        \n",
      "2  2020.0                                           72312.41        \n",
      "3  2021.0                                           68298.54        \n",
      "4  2022.0                                           53800.04        \n",
      "5  2023.0                                           48964.29        \n",
      "6  2024.0                                           25801.83        \n",
      "0  2021.0                                           42155.80        \n",
      "\n",
      "   Nasha Ryaba Chilled Курка Філе 9 Кг Упаковка Фас 1000G  \\\n",
      "0                                          106927.34        \n",
      "1                                           67662.79        \n",
      "2                                            5713.43        \n",
      "3                                               0.00        \n",
      "4                                           29614.63        \n",
      "5                                           57235.66        \n",
      "6                                            9098.45        \n",
      "0                                           39464.61        \n",
      "\n",
      "   Nasha Ryaba Chilled Курка Філе Butterfly Фас 1000G  \\\n",
      "0                                               0.00    \n",
      "1                                               0.00    \n",
      "2                                               0.00    \n",
      "3                                             512.55    \n",
      "4                                             125.14    \n",
      "5                                               0.00    \n",
      "6                                               0.00    \n",
      "0                                              91.10    \n",
      "\n",
      "   Nasha Ryaba Chilled Курка Філе Фас 1000G  \\\n",
      "0                                2235158.86   \n",
      "1                                1489550.99   \n",
      "2                                1796568.14   \n",
      "3                                2185924.01   \n",
      "4                                1861675.96   \n",
      "5                                1812009.84   \n",
      "6                                 794647.37   \n",
      "0                                1739362.17   \n",
      "\n",
      "   Nasha Ryaba Chilled Курка Філе Халяль Фас 1000G  \\\n",
      "0                                        108574.24   \n",
      "1                                        133304.78   \n",
      "2                                        146212.49   \n",
      "3                                        118430.17   \n",
      "4                                         41291.84   \n",
      "5                                         25080.45   \n",
      "6                                             0.00   \n",
      "0                                         81841.99   \n",
      "\n",
      "   Nasha Ryaba Culinary Курка Філе Sous-Vide Фас 1000G  Grand Total  index  \n",
      "0                                               0.00     2450660.46    NaN  \n",
      "1                                               0.00     1716432.04    NaN  \n",
      "2                                               0.00     2020806.47    NaN  \n",
      "3                                            2573.68     2375738.95    NaN  \n",
      "4                                            1760.87     1988268.48    NaN  \n",
      "5                                           13749.46     1957039.68    NaN  \n",
      "6                                           10137.90      839685.57    NaN  \n",
      "0                                            4031.70     1906947.38    3.0  \n",
      "string_value = lugvluh\n"
     ]
    }
   ],
   "source": [
    "if __name__ == \"__main__\":\n",
    "    main()"
   ]
  },
  {
   "cell_type": "code",
   "execution_count": null,
   "id": "33825f8c-0a38-4e0a-8ccf-48a884d83f70",
   "metadata": {},
   "outputs": [],
   "source": []
  }
 ],
 "metadata": {
  "kernelspec": {
   "display_name": "Python 3 (ipykernel)",
   "language": "python",
   "name": "python3"
  },
  "language_info": {
   "codemirror_mode": {
    "name": "ipython",
    "version": 3
   },
   "file_extension": ".py",
   "mimetype": "text/x-python",
   "name": "python",
   "nbconvert_exporter": "python",
   "pygments_lexer": "ipython3",
   "version": "3.12.4"
  }
 },
 "nbformat": 4,
 "nbformat_minor": 5
}
