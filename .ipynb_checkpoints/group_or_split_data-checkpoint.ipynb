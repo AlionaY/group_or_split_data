{
 "cells": [
  {
   "cell_type": "markdown",
   "id": "86c67272-1240-4809-85ea-5236d3e00881",
   "metadata": {},
   "source": [
    "### Як працювати зі скриптом"
   ]
  },
  {
   "cell_type": "markdown",
   "id": "d521b98f-3fd0-49d6-af0f-8a9ebf00d154",
   "metadata": {},
   "source": [
    "1. Вибрати файл, який потрібно транформувати\n",
    "2. Обрати лист (sheet), який потрібно трансформувати\n",
    "3. Написати назву нового файлу з результатами трансформації (ПОКИ ЩО РЕЗУЛЬТАТИ ВАРТО ЗБЕРІГАТИ В НОВОМУ EXCEL ФАЙЛІ)\n",
    "4. Обрати значення, по яким відфільтруються дані (як в pivot в Excel в блоці Filter)\n",
    "5. Обрати що потрбіно в результаті отримати: growth rate чи split\n",
    "\n",
    "\n",
    "    <br>Growth rate\n",
    "    1) обрати операції, які потрібно застосувати до колонок з числовими значеннями (sales_kg, sales_uah etc)\n",
    "       <br>ЯКЩО НЕ ОБРАНА НІЯКА ДІЯ (SUM/MEAM/MAX), КОЛОНКИ В РЕЗУЛЬТАТАХ НЕ БУДЕ\n",
    "  \n",
    "\n",
    "   <br>Split\n",
    "   1) обрати колонку, по якій зробити спліт (напр., un_sku_def_brand)\n",
    "   2) обрати колонку, яку потрібно розбити (напр., sales_kg)\n",
    "      <br>ДЛЯ СПЛІТУ РАХУЄТЬСЯ ЛИШЕ SUM\n",
    "\n",
    "   <br>\n",
    "   <br>\n",
    "6. написати назву листа (sheet) для збереження результатів\n",
    "7. done :)\n",
    "   \n",
    "!!! Для повторної роботи зі  скриптом, варто запустити лише останній рядок коду (if __name__ == 'main':)"
   ]
  },
  {
   "cell_type": "markdown",
   "id": "7cca1dc5-155c-4d22-b548-54acc1305287",
   "metadata": {},
   "source": [
    "### Imports, installs and general"
   ]
  },
  {
   "cell_type": "code",
   "execution_count": 1,
   "id": "29200194-6087-4e87-b814-edb311b4fddf",
   "metadata": {},
   "outputs": [],
   "source": [
    "# pip install pandas\n",
    "# pip install numpy\n",
    "# pip install tkinter\n",
    "# pip install openpyxl\n",
    "# pip install XlsxWriter"
   ]
  },
  {
   "cell_type": "code",
   "execution_count": 2,
   "id": "65a315a3-4316-4569-ac81-933b3116d62e",
   "metadata": {},
   "outputs": [],
   "source": [
    "import os\n",
    "import pandas as pd\n",
    "import numpy as np\n",
    "import tkinter as tk\n",
    "from tkinter import ttk, Tk, Toplevel, Listbox, Button, SINGLE, END, IntVar, Checkbutton, Label, MULTIPLE, Radiobutton, StringVar, messagebox, simpledialog\n",
    "from tkinter.filedialog import askopenfilename, asksaveasfilename\n",
    "\n",
    "from openpyxl import Workbook, load_workbook\n",
    "from openpyxl.utils.dataframe import dataframe_to_rows"
   ]
  },
  {
   "cell_type": "code",
   "execution_count": 3,
   "id": "e8351e04-91db-4455-b503-432a82fa683a",
   "metadata": {},
   "outputs": [],
   "source": [
    "operations = [\"sum\", \"mean\", \"max\"]"
   ]
  },
  {
   "cell_type": "code",
   "execution_count": 4,
   "id": "64261197-287a-4700-9784-d6cd86373b2c",
   "metadata": {},
   "outputs": [],
   "source": [
    "def get_year_month_cols(df):\n",
    "    return [col for col in df.columns if 'year' in col or 'month' in col]\n",
    "\n",
    "def get_numeric_cols(df):\n",
    "    return [col for col in df.select_dtypes(include='number')]\n",
    "\n",
    "def round_floats(df):\n",
    "    float_cols = df.select_dtypes(include=['float']).columns\n",
    "    df[float_cols] = df[float_cols].round(2)\n",
    "    return df"
   ]
  },
  {
   "cell_type": "markdown",
   "id": "8b948272-a5c6-4b4c-be86-485f17e8ff04",
   "metadata": {},
   "source": [
    "### Load a file"
   ]
  },
  {
   "cell_type": "code",
   "execution_count": 5,
   "id": "a5b4574d-3417-42c3-9afc-18380b3b1e1d",
   "metadata": {},
   "outputs": [],
   "source": [
    "def choose_filename():\n",
    "    Tk().withdraw()\n",
    "\n",
    "    filename = askopenfilename(\n",
    "        title=\"Select an Excel file\",\n",
    "        filetypes=[(\"Excel files\", \"*.xlsx *.xls\")]\n",
    "    )\n",
    "    return filename\n",
    "\n",
    "\n",
    "def select_sheet(sheet_names):\n",
    "    top = Toplevel()\n",
    "    top.title(\"Select a sheet\")\n",
    "    top.geometry('600x600')\n",
    "\n",
    "    listbox = Listbox(top, selectmode=SINGLE)\n",
    "    for sheet in sheet_names:\n",
    "        listbox.insert(END, sheet)\n",
    "    listbox.pack(padx=10, pady=10)\n",
    "\n",
    "    selected_sheet = []\n",
    "\n",
    "    def on_select():\n",
    "        selection = listbox.curselection()\n",
    "        if selection:\n",
    "            selected_sheet.append(sheet_names[selection[0]])\n",
    "        top.destroy()\n",
    "\n",
    "    button = Button(top, text=\"Select\", command=on_select)\n",
    "    button.pack(pady=5)\n",
    "\n",
    "    top.wait_window(top)\n",
    "    return selected_sheet[0] if selected_sheet else None\n",
    "\n",
    "\n",
    "def read_excel_file(filename, sheet_name):\n",
    "    df = pd.read_excel(filename, sheet_name=sheet_name) \n",
    "    df.columns = map(str.lower, df.columns)\n",
    "    print('Excel file selected')\n",
    "    return df"
   ]
  },
  {
   "cell_type": "code",
   "execution_count": 6,
   "id": "70668821-0354-4437-90e1-e633bbdad162",
   "metadata": {},
   "outputs": [],
   "source": [
    "def get_dataframe():\n",
    "    file_path = choose_filename()\n",
    "    \n",
    "    if file_path:\n",
    "        xls = pd.ExcelFile(file_path)\n",
    "        sheet_name = select_sheet(xls.sheet_names)\n",
    "\n",
    "        if sheet_name in xls.sheet_names:\n",
    "            df = read_excel_file(file_path, sheet_name)\n",
    "            print(\"DataFrame loaded successfully.\")\n",
    "            return df\n",
    "        else:\n",
    "            print(\"Invalid sheet name selected.\")\n",
    "    else:\n",
    "        messagebox.showerror('Error', \"No file selected.\") "
   ]
  },
  {
   "cell_type": "markdown",
   "id": "535425b9-4ca3-4309-a56f-ef2f96fcc158",
   "metadata": {},
   "source": [
    "### Create an Excel file"
   ]
  },
  {
   "cell_type": "code",
   "execution_count": 7,
   "id": "2f84c28c-fe79-4fb6-b11c-ccb80dbb74f7",
   "metadata": {},
   "outputs": [],
   "source": [
    "def get_excel_filename():\n",
    "    root = tk.Tk()\n",
    "    root.withdraw()\n",
    "\n",
    "    file_name = simpledialog.askstring(\"Excel File Name\", \"Enter Excel file name:\")\n",
    "    if file_name:\n",
    "        return file_name.strip() + \".xlsx\"\n",
    "        print('Excel file created successfully')\n",
    "    else:\n",
    "        messagebox.showerror('Error', 'No filename was entered') \n",
    "        return None"
   ]
  },
  {
   "cell_type": "markdown",
   "id": "8613fc86-bf22-43f2-967f-3e00cafe55a6",
   "metadata": {},
   "source": [
    "### Filter data"
   ]
  },
  {
   "cell_type": "code",
   "execution_count": 8,
   "id": "3ff2392e-1c83-425e-8013-172511aa1d99",
   "metadata": {},
   "outputs": [],
   "source": [
    "class ScrollableFrame(ttk.Frame):\n",
    "    def __init__(self, container, *args, **kwargs):\n",
    "        super().__init__(container, *args, **kwargs)\n",
    "        canvas = tk.Canvas(self)\n",
    "        \n",
    "        scrollbar = ttk.Scrollbar(self, orient=\"vertical\", command=canvas.yview)\n",
    "        self.scrollable_frame = ttk.Frame(canvas)\n",
    "\n",
    "        self.scrollable_frame.bind(\n",
    "            \"<Configure>\",\n",
    "            lambda e: canvas.configure(\n",
    "                scrollregion=canvas.bbox(\"all\")\n",
    "            )\n",
    "        )\n",
    "\n",
    "        canvas.create_window((0, 0), window=self.scrollable_frame, anchor=\"nw\")\n",
    "        canvas.configure(yscrollcommand=scrollbar.set)\n",
    "        canvas.pack(side=\"left\", fill=\"both\", expand=True)\n",
    "        scrollbar.pack(side=\"right\", fill=\"y\")"
   ]
  },
  {
   "cell_type": "code",
   "execution_count": 9,
   "id": "079a21b7-9ad5-45ee-ba45-69e7f93ddcb2",
   "metadata": {},
   "outputs": [],
   "source": [
    "def filter_dataframe(df):   \n",
    "\n",
    "    def apply_filters():\n",
    "        filters = {}\n",
    "        filtered_df = df.copy()\n",
    "        for column, box in listboxes_dict.items():\n",
    "            selected_values = [box.get(i) for i in box.curselection()]\n",
    "            if \"All\" not in selected_values:\n",
    "                filters[column] = selected_values\n",
    "\n",
    "        for col, values in filters.items():\n",
    "            query_str = ' & '.join([f'`{col}` in {value}' for col, value in filters.items() if value])\n",
    "            print(query_str)\n",
    "            filtered_df = df.query(query_str)\n",
    "            return filtered_df\n",
    "        return 'Something went wrong'     \n",
    "\n",
    "    def hide_window():\n",
    "        root.withdraw()\n",
    "        root.quit()\n",
    "        \n",
    "    def on_apply():\n",
    "        filtered_df = apply_filters()\n",
    "        return filtered_df\n",
    "        \n",
    "    root = Tk()\n",
    "    root.title('Select values to filter')\n",
    "    root.geometry('600x600')\n",
    "\n",
    "    scrollable_frame = ScrollableFrame(root)\n",
    "    scrollable_frame.pack(fill=\"both\", expand=True)\n",
    "\n",
    "    object_cols = df.select_dtypes(include='object').columns.tolist()\n",
    "    print(object_cols)\n",
    "    listboxes_dict = {}\n",
    "    for column in object_cols:\n",
    "        if object_cols or column in get_year_month_cols(df):\n",
    "            unique_values = [\"All\"] + df[column].unique().tolist()\n",
    "            \n",
    "            Label(scrollable_frame.scrollable_frame, text=column).pack(pady=5)\n",
    "            listbox = Listbox(scrollable_frame.scrollable_frame, selectmode=MULTIPLE, exportselection=False)\n",
    "            listboxes_dict[column] = listbox\n",
    "            \n",
    "            for value in sorted(unique_values):\n",
    "                listbox.insert(tk.END, value)\n",
    "            listbox.pack(fill=tk.BOTH, expand=True)\n",
    "\n",
    "    Button(scrollable_frame, text=\"Apply\", command=hide_window).pack()\n",
    "    root.mainloop()\n",
    "    filtered_df = on_apply()\n",
    "    return filtered_df"
   ]
  },
  {
   "cell_type": "markdown",
   "id": "abf94ff7-4224-4613-b3a7-6e4a3a9a1ec4",
   "metadata": {},
   "source": [
    "### Choose \"Growth rate\" or \"Split\""
   ]
  },
  {
   "cell_type": "code",
   "execution_count": 10,
   "id": "e6c8eac7-59ec-4935-94d7-bc04bd1b1908",
   "metadata": {},
   "outputs": [],
   "source": [
    "def select_group_or_split(df):\n",
    "    options = ['Growth rate', 'Split']\n",
    "    \n",
    "    def on_selected():\n",
    "        root.destroy()\n",
    "\n",
    "    root = Toplevel()\n",
    "    root.title('I want to get')\n",
    "    root.geometry('400x400')\n",
    "    \n",
    "    selected_option = StringVar(value=options[0])\n",
    "    for option in options:\n",
    "         radio_button = tk.Radiobutton(root, text=option, variable=selected_option, value=option)\n",
    "         radio_button.pack(anchor='w')\n",
    "    \n",
    "    select_button = tk.Button(root, text=\"Select\", command=on_selected)\n",
    "    select_button.pack()\n",
    "    root.wait_window()\n",
    "\n",
    "    return selected_option.get()"
   ]
  },
  {
   "cell_type": "markdown",
   "id": "3251ae8a-3b31-420f-9622-5e18bed4b453",
   "metadata": {},
   "source": [
    "### Group data"
   ]
  },
  {
   "cell_type": "code",
   "execution_count": 29,
   "id": "e153a617-e995-44de-9144-28296f181a82",
   "metadata": {},
   "outputs": [],
   "source": [
    "def group_data_monthly(df):\n",
    "    def apply_aggregations(cols):\n",
    "        aggregations = {}\n",
    "        for column, box in listboxes_dict.items():\n",
    "            selected_values = [box.get(i) for i in box.curselection()]\n",
    "            aggregations[column] = selected_values\n",
    "\n",
    "        grouped_df = filtered_df.groupby(cols).agg(aggregations)\n",
    "        grouped_df.columns = ['{}_{}'.format(col, op) for col, op in grouped_df.columns]\n",
    "        print('Data has been group successfully')\n",
    "        return grouped_df.reset_index()\n",
    "        \n",
    "    def hide_window():\n",
    "        root.withdraw()\n",
    "        root.quit()\n",
    "        \n",
    "    def on_apply(cols):\n",
    "        filtered_df = apply_aggregations(cols)\n",
    "        return filtered_df\n",
    "        \n",
    "    selected_columns = []\n",
    "    selected_columns = select_columns_to_groupby(df)\n",
    "        \n",
    "    numeric_cols = df.select_dtypes(include='number').columns.tolist()\n",
    "    cols_to_show = selected_columns + numeric_cols\n",
    "    filtered_df = df[cols_to_show]\n",
    "\n",
    "    cols_to_transform = [col for col in numeric_cols if col not in get_year_month_cols(df)]    \n",
    "    \n",
    "    root = Tk()\n",
    "    root.geometry('600x600')\n",
    "    \n",
    "    scrollable_frame = ScrollableFrame(root)\n",
    "    scrollable_frame.pack(fill=\"both\", expand=True)\n",
    "    \n",
    "    listboxes_dict = {}\n",
    "    for column in cols_to_transform:\n",
    "        Label(scrollable_frame.scrollable_frame, text=column).pack(pady=5)\n",
    "        listbox = Listbox(scrollable_frame.scrollable_frame, selectmode=MULTIPLE, exportselection=False)\n",
    "        listboxes_dict[column] = listbox\n",
    "            \n",
    "        for value in operations:\n",
    "            listbox.insert(tk.END, value)\n",
    "        listbox.pack(fill=tk.BOTH, expand=True)\n",
    "\n",
    "    Button(scrollable_frame.scrollable_frame, text=\"Apply\", command=hide_window).pack()\n",
    "    root.mainloop()\n",
    "\n",
    "    group_monthly_cols = [col for col in numeric_cols if 'year' in col.lower() or 'month' in col.lower()] + selected_columns\n",
    "    grouped_monthly_df = on_apply(group_monthly_cols)\n",
    "    return round_floats(grouped_monthly_df)"
   ]
  },
  {
   "cell_type": "code",
   "execution_count": 12,
   "id": "60246aa9-2234-47a4-8f62-e89083e7bb2f",
   "metadata": {},
   "outputs": [],
   "source": [
    "def get_year_aggregations(df):\n",
    "    column_aggregations = {}\n",
    "    for column in df.columns:\n",
    "        for aggregation in operations:\n",
    "            if aggregation in column:\n",
    "                column_aggregations[column] = aggregation\n",
    "    aggregated_df = df.groupby('year').agg(column_aggregations).reset_index()\n",
    "    return aggregated_df\n",
    "    \n",
    "\n",
    "def get_totals(df):\n",
    "    totals = pd.DataFrame([{'year': 'Total'}])\n",
    "    for col in df.columns:\n",
    "        for agg in operations:\n",
    "            if agg in col:\n",
    "                if agg == 'mean':\n",
    "                    totals[col] = df.loc[:, col].mean()\n",
    "                elif agg == 'sum':\n",
    "                    totals[col] = df.loc[:, col].sum()\n",
    "                elif agg == 'max':\n",
    "                    totals[col] = df.loc[:, col].max()\n",
    "    return totals\n",
    "\n",
    "\n",
    "def get_growth_percentage(df):\n",
    "    df_prev_year= df.shift(1)\n",
    "    year_col = [col for col in df.columns if 'year' in col]\n",
    "    numeric_cols = [col for col in df.columns if col not in year_col]\n",
    "    growth_df = (df[numeric_cols] / df_prev_year[numeric_cols]) - 1\n",
    "    result_df = pd.concat([df[year_col], growth_df], axis=1)\n",
    "    return round_floats(result_df)\n",
    "\n",
    "\n",
    "def get_total_data_by_years(df):\n",
    "    aggregated_df = get_year_aggregations(df)\n",
    "    percentage_df = get_growth_percentage(aggregated_df)\n",
    "\n",
    "    total_df = get_totals(df)\n",
    "    total_aggregated_df = round_floats(pd.concat([aggregated_df, total_df]))\n",
    "    return total_aggregated_df, percentage_df"
   ]
  },
  {
   "cell_type": "code",
   "execution_count": 13,
   "id": "9c980314-4c4f-4ee5-a4b1-5d0404727093",
   "metadata": {},
   "outputs": [],
   "source": [
    "def get_grouped_data(df):\n",
    "    grouped_monthly = group_data_monthly(df)\n",
    "    grouped_yearly, growth_rates = get_total_data_by_years(grouped_monthly)\n",
    "    return [grouped_yearly, growth_rates, grouped_monthly]"
   ]
  },
  {
   "cell_type": "markdown",
   "id": "f8d8d1cd-260b-447a-83ab-ffccff945eb3",
   "metadata": {},
   "source": [
    "### Split selected column"
   ]
  },
  {
   "cell_type": "code",
   "execution_count": 14,
   "id": "6297e83a-b7c6-4693-bbe1-6c550c489a23",
   "metadata": {},
   "outputs": [],
   "source": [
    "def rename_cols(df):\n",
    "    col_names = [name for name in df.index.names]\n",
    "    for name in df.columns.get_level_values(1):\n",
    "        col_names.append(name)\n",
    "    flatten_df = df.reset_index()\n",
    "    flatten_df.columns = col_names\n",
    "    return flatten_df\n",
    "\n",
    "def add_grand_total(df):\n",
    "    result_df = df.fillna(0)\n",
    "    value_cols = [col for col in result_df.columns if col not in get_year_month_cols(result_df)]\n",
    "    result_df['Grand Total'] = result_df[value_cols].sum(axis=1)\n",
    "    return result_df"
   ]
  },
  {
   "cell_type": "code",
   "execution_count": 15,
   "id": "ad05e0dc-7181-4644-adaa-a50705f1a907",
   "metadata": {},
   "outputs": [],
   "source": [
    "def select_single_column_name(split_column_options):\n",
    "    def on_selected():\n",
    "        root.destroy()\n",
    "        \n",
    "    root = Toplevel()\n",
    "    root.geometry('600x600')\n",
    "    \n",
    "    selected_col = StringVar(value=split_column_options[0])\n",
    "    for col in split_column_options:\n",
    "         radio_button = Radiobutton(root, text=col, variable=selected_col, value=col)\n",
    "         radio_button.pack(anchor='w')\n",
    "    \n",
    "    select_button = tk.Button(root, text=\"Select\", command=on_selected)\n",
    "    select_button.pack()\n",
    "    root.wait_window()\n",
    "    return selected_col.get()"
   ]
  },
  {
   "cell_type": "code",
   "execution_count": 16,
   "id": "9f76b68d-5fb5-41b1-b7de-60c6a4737939",
   "metadata": {},
   "outputs": [],
   "source": [
    "def select_column_to_split(df):\n",
    "    split_column_options = [col for col in df.columns if col in df.select_dtypes(include='object')]\n",
    "    selected_col = select_single_column_name(split_column_options)\n",
    "    return selected_col"
   ]
  },
  {
   "cell_type": "code",
   "execution_count": 17,
   "id": "3550b523-9980-43f9-907f-e8de8dc7b9a3",
   "metadata": {},
   "outputs": [],
   "source": [
    "def select_col_to_split_by(df):\n",
    "    split_column_options = [col for col in df.select_dtypes(include='number') if col not in get_year_month_cols(df)]\n",
    "    selected_col = select_single_column_name(split_column_options)\n",
    "    return selected_col"
   ]
  },
  {
   "cell_type": "code",
   "execution_count": 18,
   "id": "97adfd21-e1a3-4a76-bb8a-70ad84e5a7b9",
   "metadata": {},
   "outputs": [],
   "source": [
    "def group_by_year_month(df):\n",
    "    column_to_split = select_column_to_split(df)\n",
    "    value_col_to_split_by = select_col_to_split_by(df)\n",
    "    split_cols = [column_to_split, value_col_to_split_by]\n",
    "\n",
    "    year_month_cols = get_year_month_cols(df)\n",
    "\n",
    "    cols_to_show = [col for col in df if col in split_cols or col in year_month_cols]    \n",
    "    filtered_df = df[cols_to_show]\n",
    "\n",
    "    grouped_df = filtered_df.groupby(year_month_cols).sum().reset_index()\n",
    "    return round_floats(filtered_df)"
   ]
  },
  {
   "cell_type": "code",
   "execution_count": 19,
   "id": "6e2e26ce-b879-411a-8192-8220ab1c9de8",
   "metadata": {},
   "outputs": [],
   "source": [
    "def make_pivot_monthly(df):  \n",
    "    year_month_cols = get_year_month_cols(df)\n",
    "    \n",
    "    object_cols = df.select_dtypes(include='object').columns.tolist()\n",
    "    number_cols = df.select_dtypes(include='number').columns.tolist()\n",
    "    value_cols = [col for col in number_cols if col not in year_month_cols]\n",
    "\n",
    "    pivot_df = df.pivot_table(values=value_cols, index=year_month_cols, columns=object_cols, aggfunc='sum')\n",
    "    pivot_df = rename_cols(pivot_df)\n",
    "    pivot_df = add_grand_total(pivot_df)\n",
    "    pivot_df['Grand Total'] = pivot_df['Grand Total'].round(2)\n",
    "\n",
    "    print('Data has been split successfully')\n",
    "    return round_floats(pivot_df)"
   ]
  },
  {
   "cell_type": "code",
   "execution_count": 20,
   "id": "b9d96312-bb57-468c-8b71-4d8313ca6f8d",
   "metadata": {},
   "outputs": [],
   "source": [
    "def get_pivot_yearly(df):\n",
    "    def get_totals(df):\n",
    "        totals = pd.DataFrame([{'year': 'Total'}])\n",
    "        for col in df.columns:\n",
    "            if col not in get_year_month_cols(df):\n",
    "                totals[col] = df.loc[:, col].mean()\n",
    "        return totals\n",
    "\n",
    "    month_col = [col for col in df.columns if 'month' in col]\n",
    "    year_col = [col for col in df.columns if 'year' in col]\n",
    "    \n",
    "    pivot_yearly = df.drop(month_col, axis=1)\n",
    "    pivot_yearly = pivot_yearly.groupby(year_col).sum().reset_index()\n",
    "    totals = get_totals(pivot_yearly)\n",
    "    total_df = pd.concat([pivot_yearly, totals])\n",
    "    total_df['Grand Total'] = total_df['Grand Total'].round(2)\n",
    "    return round_floats(total_df)"
   ]
  },
  {
   "cell_type": "code",
   "execution_count": 21,
   "id": "df3c081d-2ee3-44bd-99c8-05e0cc368c0f",
   "metadata": {},
   "outputs": [],
   "source": [
    "def get_split_by_years(df):\n",
    "    split_df = df.copy()\n",
    "    for index, row in split_df.iterrows():\n",
    "        for col in split_df.columns[1:]:  # Skip 'year'\n",
    "            split_df.at[index, col] = row[col] / row['Grand Total']\n",
    "    return round_floats(split_df)"
   ]
  },
  {
   "cell_type": "code",
   "execution_count": 22,
   "id": "f5c2f654-d04e-422c-87f0-60f238452fcf",
   "metadata": {},
   "outputs": [],
   "source": [
    "def get_splitted_data(df):\n",
    "    grouped_df = group_by_year_month(df)\n",
    "    \n",
    "    pivot_monthly_df = make_pivot_monthly(grouped_df)\n",
    "    pivot_yearly_df = get_pivot_yearly(pivot_monthly_df)\n",
    "    split_df = get_split_by_years(pivot_yearly_df)\n",
    "    return [pivot_monthly_df, pivot_yearly_df, split_df]"
   ]
  },
  {
   "cell_type": "markdown",
   "id": "f7456b59-1896-4ed1-a9a3-02cb9254a6f9",
   "metadata": {},
   "source": [
    "### Write to the Excel file"
   ]
  },
  {
   "cell_type": "code",
   "execution_count": 23,
   "id": "5c95989e-e399-462f-ab73-0523830b171c",
   "metadata": {},
   "outputs": [],
   "source": [
    "def get_file_path():\n",
    "    root = tk.Tk()\n",
    "    root.withdraw()\n",
    "\n",
    "    file_path = askopenfilename(\n",
    "        defaultextension=\".xlsx\",\n",
    "        filetypes=[(\"Excel files\", \"*.xlsx\"), (\"All files\", \"*.*\")],\n",
    "        title=\"Select Excel File\"\n",
    "    )\n",
    "\n",
    "    if not file_path:\n",
    "        messagebox.showerror('Error', 'No file selected')\n",
    "    return file_path"
   ]
  },
  {
   "cell_type": "code",
   "execution_count": 24,
   "id": "e55a58cb-2604-4c85-b7d8-e030c23877cd",
   "metadata": {},
   "outputs": [],
   "source": [
    "def ask_sheet_name():\n",
    "    root = tk.Tk()\n",
    "    root.withdraw()\n",
    "\n",
    "    sheet_name = simpledialog.askstring(\"Excel Sheet Name\", \"Enter sheet name:\")\n",
    "    if sheet_name:\n",
    "        return sheet_name.strip()\n",
    "    else:\n",
    "        messagebox.showerror('Error', 'No sheet name was entered') \n",
    "        return None"
   ]
  },
  {
   "cell_type": "code",
   "execution_count": 25,
   "id": "9014692a-8825-4ae7-a2ab-bfab7b2a9daf",
   "metadata": {},
   "outputs": [],
   "source": [
    "def write_to_excel(file_path, df_list, sheet_name):\n",
    "    if os.path.exists(file_path):\n",
    "        first_row = 1\n",
    "\n",
    "        wb = load_workbook(file_path)\n",
    "        if sheet_name in wb.sheetnames:\n",
    "            sheet = wb[sheet_name]\n",
    "        else:\n",
    "            sheet = wb.create_sheet(sheet_name)\n",
    "\n",
    "        for df in df_list:\n",
    "            print(f'first row = {first_row}, len df = {len(df)}')\n",
    "            for row_idx, row in enumerate(dataframe_to_rows(df, index=False, header=True), start=first_row):\n",
    "                for col_idx, value in enumerate(row, start=1):\n",
    "                    sheet.cell(row=row_idx, column=col_idx, value=value)\n",
    "            first_row = len(df) + 4\n",
    "\n",
    "        wb.save(file_path)\n",
    "    else:\n",
    "        for df in df_list:\n",
    "            with pd.ExcelWriter(file_path, engine='openpyxl') as writer:\n",
    "                df.to_excel(writer, sheet_name=sheet_name, index=False)"
   ]
  },
  {
   "cell_type": "code",
   "execution_count": 26,
   "id": "983ccbf7-f25b-46d4-a86a-a87263d088af",
   "metadata": {},
   "outputs": [],
   "source": [
    "def manage_excel_sheets(df_list):\n",
    "    file_path = get_file_path()\n",
    "    sheet_name = ask_sheet_name()\n",
    "    write_to_excel(file_path, df_list, sheet_name)"
   ]
  },
  {
   "cell_type": "markdown",
   "id": "f33645e6-77a5-4f91-8a20-7fff08a78dca",
   "metadata": {},
   "source": [
    "### Main function"
   ]
  },
  {
   "cell_type": "code",
   "execution_count": 27,
   "id": "a0075032-260f-477c-a99e-703d2eb04a34",
   "metadata": {},
   "outputs": [],
   "source": [
    "def main():    \n",
    "    df = get_dataframe()\n",
    "    \n",
    "    filtered_df = filter_dataframe(df)\n",
    "\n",
    "    result_df_list = []\n",
    "    selected_option = select_group_or_split(filtered_df)\n",
    "    if selected_option == 'Split':\n",
    "        result_df_list = get_splitted_data(filtered_df)\n",
    "    elif selected_option == 'Growth rate':\n",
    "        result_df_list = get_grouped_data(filtered_df)\n",
    "    else:\n",
    "        messagebox.showerror(\"Error\", \"Something went wrong\")\n",
    "\n",
    "    manage_excel_sheets(result_df_list)\n",
    "    messagebox.showinfo(\"Congratulation!\", \"Data transformed and saved :)\") "
   ]
  },
  {
   "cell_type": "code",
   "execution_count": 28,
   "id": "8f1653d7-579c-4c4a-9f62-df8eb4814487",
   "metadata": {},
   "outputs": [
    {
     "name": "stdout",
     "output_type": "stream",
     "text": [
      "Excel file selected\n",
      "DataFrame loaded successfully.\n",
      "`type` in ['Курка'] & `аналітична група` in ['1.1. Охол фас']\n"
     ]
    },
    {
     "ename": "TypeError",
     "evalue": "group_data_monthly() missing 1 required positional argument: 'filter_values'",
     "output_type": "error",
     "traceback": [
      "\u001b[1;31m---------------------------------------------------------------------------\u001b[0m",
      "\u001b[1;31mTypeError\u001b[0m                                 Traceback (most recent call last)",
      "Cell \u001b[1;32mIn[28], line 2\u001b[0m\n\u001b[0;32m      1\u001b[0m \u001b[38;5;28;01mif\u001b[39;00m \u001b[38;5;18m__name__\u001b[39m \u001b[38;5;241m==\u001b[39m \u001b[38;5;124m\"\u001b[39m\u001b[38;5;124m__main__\u001b[39m\u001b[38;5;124m\"\u001b[39m:\n\u001b[1;32m----> 2\u001b[0m     main()\n",
      "Cell \u001b[1;32mIn[27], line 11\u001b[0m, in \u001b[0;36mmain\u001b[1;34m()\u001b[0m\n\u001b[0;32m      9\u001b[0m     result_df_list \u001b[38;5;241m=\u001b[39m get_splitted_data(filtered_df)\n\u001b[0;32m     10\u001b[0m \u001b[38;5;28;01melif\u001b[39;00m selected_option \u001b[38;5;241m==\u001b[39m \u001b[38;5;124m'\u001b[39m\u001b[38;5;124mGrowth rate\u001b[39m\u001b[38;5;124m'\u001b[39m:\n\u001b[1;32m---> 11\u001b[0m     result_df_list \u001b[38;5;241m=\u001b[39m get_grouped_data(filtered_df)\n\u001b[0;32m     12\u001b[0m \u001b[38;5;28;01melse\u001b[39;00m:\n\u001b[0;32m     13\u001b[0m     messagebox\u001b[38;5;241m.\u001b[39mshowerror(\u001b[38;5;124m\"\u001b[39m\u001b[38;5;124mError\u001b[39m\u001b[38;5;124m\"\u001b[39m, \u001b[38;5;124m\"\u001b[39m\u001b[38;5;124mSomething went wrong\u001b[39m\u001b[38;5;124m\"\u001b[39m)\n",
      "Cell \u001b[1;32mIn[13], line 2\u001b[0m, in \u001b[0;36mget_grouped_data\u001b[1;34m(df)\u001b[0m\n\u001b[0;32m      1\u001b[0m \u001b[38;5;28;01mdef\u001b[39;00m \u001b[38;5;21mget_grouped_data\u001b[39m(df):\n\u001b[1;32m----> 2\u001b[0m     grouped_monthly \u001b[38;5;241m=\u001b[39m group_data_monthly(df)\n\u001b[0;32m      3\u001b[0m     grouped_yearly, growth_rates \u001b[38;5;241m=\u001b[39m get_total_data_by_years(grouped_monthly)\n\u001b[0;32m      4\u001b[0m     \u001b[38;5;28;01mreturn\u001b[39;00m [grouped_yearly, growth_rates, grouped_monthly]\n",
      "\u001b[1;31mTypeError\u001b[0m: group_data_monthly() missing 1 required positional argument: 'filter_values'"
     ]
    }
   ],
   "source": [
    "if __name__ == \"__main__\":\n",
    "    main()"
   ]
  },
  {
   "cell_type": "code",
   "execution_count": null,
   "id": "a383e78a-b59f-41e9-9b43-041228906152",
   "metadata": {},
   "outputs": [],
   "source": []
  }
 ],
 "metadata": {
  "kernelspec": {
   "display_name": "Python 3 (ipykernel)",
   "language": "python",
   "name": "python3"
  },
  "language_info": {
   "codemirror_mode": {
    "name": "ipython",
    "version": 3
   },
   "file_extension": ".py",
   "mimetype": "text/x-python",
   "name": "python",
   "nbconvert_exporter": "python",
   "pygments_lexer": "ipython3",
   "version": "3.12.4"
  }
 },
 "nbformat": 4,
 "nbformat_minor": 5
}
